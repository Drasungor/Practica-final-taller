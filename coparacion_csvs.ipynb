{
  "nbformat": 4,
  "nbformat_minor": 0,
  "metadata": {
    "colab": {
      "name": "coparacion_csvs.ipynb",
      "provenance": [],
      "collapsed_sections": [],
      "authorship_tag": "ABX9TyPK6vm1En7pUXTUzBtmyWbt",
      "include_colab_link": true
    },
    "kernelspec": {
      "name": "python3",
      "display_name": "Python 3"
    }
  },
  "cells": [
    {
      "cell_type": "markdown",
      "metadata": {
        "id": "view-in-github",
        "colab_type": "text"
      },
      "source": [
        "<a href=\"https://colab.research.google.com/github/Drasungor/Practica-final-taller/blob/master/coparacion_csvs.ipynb\" target=\"_parent\"><img src=\"https://colab.research.google.com/assets/colab-badge.svg\" alt=\"Open In Colab\"/></a>"
      ]
    },
    {
      "cell_type": "code",
      "metadata": {
        "id": "_NYAWDvgVDPT"
      },
      "source": [
        "import pandas as pd"
      ],
      "execution_count": 1,
      "outputs": []
    },
    {
      "cell_type": "code",
      "metadata": {
        "id": "Yq1NcoO4XGqj"
      },
      "source": [
        "training = pd.read_csv(\"Training\")\r\n",
        "test = pd.read_csv(\"Test\")"
      ],
      "execution_count": 2,
      "outputs": []
    },
    {
      "cell_type": "code",
      "metadata": {
        "id": "u4jBuDw0YSJ7"
      },
      "source": [
        "read_columns = [\"Region\", \"Terrotory\", \"Bureaucratic_Code\", \"Source\", \"Billing_Country\", \"Account_Name\", \"Opportunity_Name\",\\\r\n",
        "                \"Account_Owner\", \"Opportunity_Owner\", \"Account_Type\", \"Opportunity_Type\", \"Quote_Type\", \"Delivery_Terms\",\\\r\n",
        "                \"Brand\", \"Product_Type\", \"Size\"]\r\n",
        "\r\n",
        "training = training[]"
      ],
      "execution_count": 2,
      "outputs": []
    }
  ]
}